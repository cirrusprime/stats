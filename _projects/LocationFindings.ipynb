{
 "cells": [
  {
   "cell_type": "code",
   "execution_count": 1,
   "metadata": {},
   "outputs": [],
   "source": [
    "import pandas as pd\n",
    "import numpy as np\n",
    "import matplotlib.pyplot as plt"
   ]
  },
  {
   "cell_type": "code",
   "execution_count": 2,
   "metadata": {},
   "outputs": [
    {
     "data": {
      "text/html": [
       "<div>\n",
       "<style scoped>\n",
       "    .dataframe tbody tr th:only-of-type {\n",
       "        vertical-align: middle;\n",
       "    }\n",
       "\n",
       "    .dataframe tbody tr th {\n",
       "        vertical-align: top;\n",
       "    }\n",
       "\n",
       "    .dataframe thead th {\n",
       "        text-align: right;\n",
       "    }\n",
       "</style>\n",
       "<table border=\"1\" class=\"dataframe\">\n",
       "  <thead>\n",
       "    <tr style=\"text-align: right;\">\n",
       "      <th></th>\n",
       "      <th></th>\n",
       "      <th></th>\n",
       "      <th></th>\n",
       "      <th></th>\n",
       "      <th></th>\n",
       "      <th></th>\n",
       "      <th></th>\n",
       "      <th></th>\n",
       "      <th></th>\n",
       "    </tr>\n",
       "  </thead>\n",
       "  <tbody>\n",
       "    <tr>\n",
       "      <th>TR23 0PR</th>\n",
       "      <th>\\N</th>\n",
       "      <th>None</th>\n",
       "      <th>\\N</th>\n",
       "      <th>\\N</th>\n",
       "      <th>\\N</th>\n",
       "      <th>87897</th>\n",
       "      <th>15021</th>\n",
       "      <th>49.953605</th>\n",
       "      <th>-6.352647</th>\n",
       "    </tr>\n",
       "    <tr>\n",
       "      <th>TR23 0WA</th>\n",
       "      <th>\\N</th>\n",
       "      <th>None</th>\n",
       "      <th>\\N</th>\n",
       "      <th>\\N</th>\n",
       "      <th>\\N</th>\n",
       "      <th>87903</th>\n",
       "      <th>15077</th>\n",
       "      <th>49.954111</th>\n",
       "      <th>-6.352609</th>\n",
       "    </tr>\n",
       "    <tr>\n",
       "      <th>TR22 0PL</th>\n",
       "      <th>\\N</th>\n",
       "      <th>None</th>\n",
       "      <th>\\N</th>\n",
       "      <th>\\N</th>\n",
       "      <th>\\N</th>\n",
       "      <th>88364</th>\n",
       "      <th>8478</th>\n",
       "      <th>49.895171</th>\n",
       "      <th>-6.340873</th>\n",
       "    </tr>\n",
       "    <tr>\n",
       "      <th>TR24 0QE</th>\n",
       "      <th>\\N</th>\n",
       "      <th>None</th>\n",
       "      <th>\\N</th>\n",
       "      <th>\\N</th>\n",
       "      <th>\\N</th>\n",
       "      <th>88849</th>\n",
       "      <th>15298</th>\n",
       "      <th>49.956586</th>\n",
       "      <th>-6.339638</th>\n",
       "    </tr>\n",
       "    <tr>\n",
       "      <th>TR24 0QL</th>\n",
       "      <th>\\N</th>\n",
       "      <th>None</th>\n",
       "      <th>\\N</th>\n",
       "      <th>\\N</th>\n",
       "      <th>\\N</th>\n",
       "      <th>88857</th>\n",
       "      <th>15392</th>\n",
       "      <th>49.957433</th>\n",
       "      <th>-6.339603</th>\n",
       "    </tr>\n",
       "  </tbody>\n",
       "</table>\n",
       "</div>"
      ],
      "text/plain": [
       "Empty DataFrame\n",
       "Columns: []\n",
       "Index: [(TR23 0PR, \\N, None, \\N, \\N, \\N, 87897, 15021, 49.953604999999996, -6.352647), (TR23 0WA, \\N, None, \\N, \\N, \\N, 87903, 15077, 49.954111, -6.352608999999999), (TR22 0PL, \\N, None, \\N, \\N, \\N, 88364, 8478, 49.895171000000005, -6.340873), (TR24 0QE, \\N, None, \\N, \\N, \\N, 88849, 15298, 49.956586, -6.339638), (TR24 0QL, \\N, None, \\N, \\N, \\N, 88857, 15392, 49.957433, -6.339603)]"
      ]
     },
     "execution_count": 2,
     "metadata": {},
     "output_type": "execute_result"
    }
   ],
   "source": [
    "floodrisk = pd.read_csv(\"open_flood_risk_by_postcode.csv\", header=None, names=[])\n",
    "floodrisk.head()"
   ]
  },
  {
   "cell_type": "code",
   "execution_count": 3,
   "metadata": {},
   "outputs": [
    {
     "data": {
      "text/html": [
       "<div>\n",
       "<style scoped>\n",
       "    .dataframe tbody tr th:only-of-type {\n",
       "        vertical-align: middle;\n",
       "    }\n",
       "\n",
       "    .dataframe tbody tr th {\n",
       "        vertical-align: top;\n",
       "    }\n",
       "\n",
       "    .dataframe thead th {\n",
       "        text-align: right;\n",
       "    }\n",
       "</style>\n",
       "<table border=\"1\" class=\"dataframe\">\n",
       "  <thead>\n",
       "    <tr style=\"text-align: right;\">\n",
       "      <th></th>\n",
       "      <th>Postcode</th>\n",
       "      <th>Elevation/m</th>\n",
       "    </tr>\n",
       "  </thead>\n",
       "  <tbody>\n",
       "    <tr>\n",
       "      <th>0</th>\n",
       "      <td>AB10 1AB</td>\n",
       "      <td>20</td>\n",
       "    </tr>\n",
       "    <tr>\n",
       "      <th>1</th>\n",
       "      <td>AB10 1AF</td>\n",
       "      <td>20</td>\n",
       "    </tr>\n",
       "    <tr>\n",
       "      <th>2</th>\n",
       "      <td>AB10 1AG</td>\n",
       "      <td>20</td>\n",
       "    </tr>\n",
       "    <tr>\n",
       "      <th>3</th>\n",
       "      <td>AB10 1AH</td>\n",
       "      <td>10</td>\n",
       "    </tr>\n",
       "    <tr>\n",
       "      <th>4</th>\n",
       "      <td>AB10 1AL</td>\n",
       "      <td>20</td>\n",
       "    </tr>\n",
       "  </tbody>\n",
       "</table>\n",
       "</div>"
      ],
      "text/plain": [
       "   Postcode  Elevation/m\n",
       "0  AB10 1AB           20\n",
       "1  AB10 1AF           20\n",
       "2  AB10 1AG           20\n",
       "3  AB10 1AH           10\n",
       "4  AB10 1AL           20"
      ]
     },
     "execution_count": 3,
     "metadata": {},
     "output_type": "execute_result"
    }
   ],
   "source": [
    "elevation = pd.read_csv(\"open_postcode_elevation.csv\", names=[\"Postcode\", \"Elevation/m\"])\n",
    "elevation.head()"
   ]
  },
  {
   "cell_type": "code",
   "execution_count": null,
   "metadata": {},
   "outputs": [],
   "source": [
    "houseprices = pd.read_csv(\"uk-housing-prices-paid.csv\")\n",
    "houseprices.head()"
   ]
  },
  {
   "cell_type": "code",
   "execution_count": null,
   "metadata": {},
   "outputs": [],
   "source": []
  },
  {
   "cell_type": "code",
   "execution_count": null,
   "metadata": {},
   "outputs": [],
   "source": []
  },
  {
   "cell_type": "code",
   "execution_count": null,
   "metadata": {},
   "outputs": [],
   "source": []
  },
  {
   "cell_type": "code",
   "execution_count": null,
   "metadata": {},
   "outputs": [],
   "source": []
  },
  {
   "cell_type": "code",
   "execution_count": null,
   "metadata": {},
   "outputs": [],
   "source": []
  },
  {
   "cell_type": "code",
   "execution_count": null,
   "metadata": {},
   "outputs": [],
   "source": []
  },
  {
   "cell_type": "code",
   "execution_count": null,
   "metadata": {},
   "outputs": [],
   "source": []
  },
  {
   "cell_type": "code",
   "execution_count": null,
   "metadata": {},
   "outputs": [],
   "source": []
  },
  {
   "cell_type": "code",
   "execution_count": null,
   "metadata": {},
   "outputs": [],
   "source": []
  },
  {
   "cell_type": "code",
   "execution_count": null,
   "metadata": {},
   "outputs": [],
   "source": []
  },
  {
   "cell_type": "code",
   "execution_count": null,
   "metadata": {},
   "outputs": [],
   "source": []
  },
  {
   "cell_type": "code",
   "execution_count": null,
   "metadata": {},
   "outputs": [],
   "source": []
  },
  {
   "cell_type": "code",
   "execution_count": null,
   "metadata": {},
   "outputs": [],
   "source": []
  },
  {
   "cell_type": "code",
   "execution_count": null,
   "metadata": {},
   "outputs": [],
   "source": []
  },
  {
   "cell_type": "code",
   "execution_count": null,
   "metadata": {},
   "outputs": [],
   "source": []
  },
  {
   "cell_type": "code",
   "execution_count": null,
   "metadata": {},
   "outputs": [],
   "source": []
  },
  {
   "cell_type": "code",
   "execution_count": null,
   "metadata": {},
   "outputs": [],
   "source": []
  },
  {
   "cell_type": "code",
   "execution_count": null,
   "metadata": {},
   "outputs": [],
   "source": []
  },
  {
   "cell_type": "code",
   "execution_count": null,
   "metadata": {},
   "outputs": [],
   "source": []
  },
  {
   "cell_type": "code",
   "execution_count": null,
   "metadata": {},
   "outputs": [],
   "source": []
  }
 ],
 "metadata": {
  "kernelspec": {
   "display_name": "Python 3",
   "language": "python",
   "name": "python3"
  },
  "language_info": {
   "codemirror_mode": {
    "name": "ipython",
    "version": 3
   },
   "file_extension": ".py",
   "mimetype": "text/x-python",
   "name": "python",
   "nbconvert_exporter": "python",
   "pygments_lexer": "ipython3",
   "version": "3.7.0"
  }
 },
 "nbformat": 4,
 "nbformat_minor": 2
}
